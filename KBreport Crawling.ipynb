{
 "cells": [
  {
   "cell_type": "code",
   "execution_count": 2,
   "metadata": {},
   "outputs": [],
   "source": [
    "from selenium import webdriver\n",
    "from bs4 import BeautifulSoup\n",
    "import re"
   ]
  },
  {
   "cell_type": "code",
   "execution_count": 3,
   "metadata": {},
   "outputs": [],
   "source": [
    "import pandas as pd\n",
    "import numpy as np\n",
    "import matplotlib.pyplot as plt\n",
    "import seaborn as sns\n",
    "import time\n",
    "from datetime import datetime"
   ]
  },
  {
   "cell_type": "code",
   "execution_count": 4,
   "metadata": {},
   "outputs": [],
   "source": [
    "driver = webdriver.Chrome('/Users/parkkyuseon/Downloads/chromedriver')\n",
    "driver.implicitly_wait(3)"
   ]
  },
  {
   "cell_type": "code",
   "execution_count": 5,
   "metadata": {},
   "outputs": [
    {
     "data": {
      "text/plain": [
       "<selenium.webdriver.chrome.webdriver.WebDriver (session=\"201225fa6d9f8be831f7d226cf170642\")>"
      ]
     },
     "execution_count": 5,
     "metadata": {},
     "output_type": "execute_result"
    }
   ],
   "source": [
    "driver.get(\"\"\"http://www.kbreport.com/teams/main?rows=20&order=TPCT&orderType=DESC&teamId=&\n",
    "defense_no=&year_from=2020&year_to=2020&split01=&split02_1=&split02_2=\"\"\")\n",
    "driver"
   ]
  },
  {
   "cell_type": "code",
   "execution_count": 6,
   "metadata": {},
   "outputs": [],
   "source": [
    "col_team_off1 = [['Yr', 'Team', 'G', 'W', 'D', 'L', 'WPCT', 'PythW', 'R/G', \n",
    "                  'AVG', 'OBP', 'SLG']]\n",
    "col_team_off2 = [['PA', 'AB', 'H', '2B', '3B', 'HR', 'R', 'RBI', 'BB', \n",
    "                  'IBB', 'HBP', 'SO', 'SF', 'SH', 'GDP', 'SB', 'CS']]\n",
    "col_team_off3 = [['BABIP', 'BBP', 'KP', 'OPS', 'BB/K', 'RC', 'RC27', 'wRC', 'SPD', 'wSB', 'wOBA', 'wRAA', 'WAR']]\n",
    "\n",
    "team_off1 = pd.DataFrame(columns = col_team_off1)\n",
    "team_off2 = pd.DataFrame(columns = col_team_off2)\n",
    "team_off3 = pd.DataFrame(columns = col_team_off3)"
   ]
  },
  {
   "cell_type": "code",
   "execution_count": 59,
   "metadata": {},
   "outputs": [
    {
     "data": {
      "text/plain": [
       "['2',\n",
       " 'KT',\n",
       " '132',\n",
       " '74',\n",
       " '1',\n",
       " '57',\n",
       " '0.565',\n",
       " '0.550',\n",
       " '5.60',\n",
       " '739',\n",
       " '152',\n",
       " '98',\n",
       " '9.6',\n",
       " '19.1',\n",
       " '0.330',\n",
       " '0.283',\n",
       " '0.357',\n",
       " '0.437',\n",
       " '0.353',\n",
       " '22.80']"
      ]
     },
     "execution_count": 59,
     "metadata": {},
     "output_type": "execute_result"
    }
   ],
   "source": [
    "url = \"\"\"http://www.kbreport.com/teams/main?rows=20&order=TPCT&orderType=DESC&teamId=&\n",
    "defense_no=&year_from=2020&year_to=2020&split01=&split02_1=&split02_2=\"\"\"\n",
    "driver.get(url)\n",
    "\n",
    "driver.implicitly_wait(15)\n",
    "table = driver.find_element_by_xpath('//*[@class=\"ltb-table responsive\"]/tbody').get_attribute(\"innerHTML\") \n",
    "soup = BeautifulSoup(table, 'html.parser') \n",
    "soup = soup.findAll('td')\n",
    "data = soup[0:len(soup)-21]\n",
    "for i in range(0, len(data)):\n",
    "    data[i] = soup[i].get_text()\n",
    "data2 = []\n",
    "for i in range(0, len(data)):\n",
    "    if len(data[i]) < 10:\n",
    "        data2 = data2 + [data[i]]\n",
    "\n",
    "data2 = np.array_split(data2, 10)\n",
    "list(data2[1])"
   ]
  },
  {
   "cell_type": "code",
   "execution_count": null,
   "metadata": {},
   "outputs": [],
   "source": []
  }
 ],
 "metadata": {
  "kernelspec": {
   "display_name": "Python 3",
   "language": "python",
   "name": "python3"
  },
  "language_info": {
   "codemirror_mode": {
    "name": "ipython",
    "version": 3
   },
   "file_extension": ".py",
   "mimetype": "text/x-python",
   "name": "python",
   "nbconvert_exporter": "python",
   "pygments_lexer": "ipython3",
   "version": "3.8.3"
  }
 },
 "nbformat": 4,
 "nbformat_minor": 4
}
